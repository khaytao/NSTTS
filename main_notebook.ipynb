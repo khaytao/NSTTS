{
 "cells": [
  {
   "cell_type": "code",
   "execution_count": null,
   "metadata": {},
   "outputs": [],
   "source": [
    "from huggingface_hub import snapshot_download \n",
    "downloaded_path = snapshot_download(repo_id=\"Rongjiehuang/ProDiff\")\n",
    "\n",
    "!mv ${downloaded_path}/checkpoints/  ProDiff/checkpoints/"
   ]
  },
  {
   "cell_type": "code",
   "execution_count": null,
   "metadata": {},
   "outputs": [],
   "source": [
    "# Import necessary libraries for system and OS operations\n",
    "import sys\n",
    "import os\n",
    "# Append the parent directory to the system path\n",
    "\n",
    "import torch\n",
    "import numpy as np\n",
    "\n",
    "prodiff_path = os.path.abspath(os.path.join(os.path.dirname(__file__), \"Prodiff\"))\n",
    "\n",
    "print(prodiff_path, os.path.isdir(prodiff_path))\n",
    "\n",
    "sys.path.insert(0, prodiff_path)\n",
    "print(os.getcwd())\n",
    "\n",
    "command = \"cd ProDiff && python -m inference.ProDiff_Teacher --config modules/ProDiff/config/prodiff_teacher.yaml --exp_name ProDiff_Teacher --reset --hparams='N=8,text=\\\"Hello, how are you?\\\",pitch_shift_semitones=2,sigma=0.5'\"\n",
    "\n",
    "os.system(command)\n"
   ]
  }
 ],
 "metadata": {
  "kernelspec": {
   "display_name": "NSTTS",
   "language": "python",
   "name": "python3"
  },
  "language_info": {
   "name": "python",
   "version": "3.8.20"
  }
 },
 "nbformat": 4,
 "nbformat_minor": 2
}
