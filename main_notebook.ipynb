{
 "cells": [
  {
   "cell_type": "code",
   "execution_count": null,
   "metadata": {},
   "outputs": [],
   "source": [
    "# Import required packages\n",
    "from huggingface_hub import snapshot_download\n",
    "import os\n",
    "\n",
    "# Download ProDiff weights from Hugging Face\n",
    "print(\"Downloading ProDiff weights...\")\n",
    "downloaded_path = snapshot_download(repo_id=\"Rongjiehuang/ProDiff\")\n",
    "\n",
    "# Create checkpoints directory if it doesn't exist\n",
    "os.makedirs(\"checkpoints\", exist_ok=True)\n",
    "\n",
    "# Move downloaded checkpoints to the proper location\n",
    "if os.path.exists(os.path.join(downloaded_path, \"checkpoints\")):\n",
    "    import shutil\n",
    "    print(\"Moving checkpoints to project directory...\")\n",
    "    shutil.copytree(\n",
    "        os.path.join(downloaded_path, \"checkpoints\"),\n",
    "        \"checkpoints\",\n",
    "        dirs_exist_ok=True\n",
    "    )\n",
    "    print(\"ProDiff weights downloaded and set up successfully!\")\n",
    "else:\n",
    "    print(\"Warning: Checkpoints folder not found in downloaded content\")\n",
    "\n",
    "# The models will now be available in:\n",
    "# - checkpoints/ProDiff Teacher/ (for teacher model)\n",
    "# - checkpoints/ProDiff/ (for student model)\n"
   ]
  }
 ],
 "metadata": {
  "language_info": {
   "name": "python"
  }
 },
 "nbformat": 4,
 "nbformat_minor": 2
}
